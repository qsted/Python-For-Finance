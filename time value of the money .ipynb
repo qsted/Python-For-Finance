{
 "cells": [
  {
   "cell_type": "markdown",
   "metadata": {},
   "source": [
    "# Time value of the money\n",
    "In this chapter, various concepts and formulae associated with finance will be\n",
    "introduced and discussed in detail. Since those concepts and formulae are so basic,\n",
    "readers who have taken one finance course, or professionals with a few years' working\n",
    "experience in the financial industry, could go through this chapter quickly\n",
    "In particular, the following topics will be covered:\n",
    "- Present value of one future cash flow and the present value of perpetuity\n",
    "- Present value of growing perpetuity\n",
    "- Present and future value of annuity\n",
    "- Perpetuity versus perpetuity due, annuity versus annuity due\n",
    "- Relevant functions contained in SciPy and the numpy.lib.financial submodule\n",
    "- Definition of NPV and NPV rule\n",
    "- Definition of IRR and IRR rule\n",
    "- Python graphical presentation of time value of money, and NPV profile\n",
    "- Definition of payback period and payback period rule\n",
    "- How to write your own financial calculator using Python"
   ]
  },
  {
   "attachments": {
    "image.png": {
     "image/png": "[encoded data removed]"
    }
   },
   "cell_type": "markdown",
   "metadata": {},
   "source": [
    "## introduction \n",
    "Let's use a very simple example to illustrate. Assume that $100 is deposited in a bank\n",
    "today with an annual interest rate of 10%. What is the value of the deposit one year\n",
    "later? Here is the timeline with the dates and cash flows:\n",
    "![image.png](attachment:image.png)"
   ]
  },
  {
   "attachments": {
    "image.png": {
     "image/png": "[encoded data removed]"
    }
   },
   "cell_type": "markdown",
   "metadata": {},
   "source": [
    "Obviously, our annual interest payment will be $10, that is, 100*0.1=10. Thus, the\n",
    "total value will be 110, that is, 100 + 10. The original $100 is principal. Alternatively,\n",
    "we have the following result:\n",
    "![image.png](attachment:image.png)"
   ]
  },
  {
   "attachments": {
    "image.png": {
     "image/png": "[encoded data removed]"
    }
   },
   "cell_type": "markdown",
   "metadata": {},
   "source": [
    "If $100 is deposited for five years with an annual interest rate of 10%, what is the\n",
    "future value at the end of year five? Based on the preceding logic, we could have the\n",
    "following formula:\n",
    "\n",
    "![image.png](attachment:image.png)"
   ]
  },
  {
   "attachments": {
    "image.png": {
     "image/png": "[encoded data removed]"
    }
   },
   "cell_type": "markdown",
   "metadata": {},
   "source": [
    "Generalization leads to our first formula to estimate the future value for one given\n",
    "present value:\n",
    "![image.png](attachment:image.png)"
   ]
  },
  {
   "cell_type": "markdown",
   "metadata": {},
   "source": [
    "Here, FV is the future value, PV is the present value, R is the period rate and n is\n",
    "the number of periods. In the preceding example, R is the annual interest rate and n\n",
    "is the number of years. The frequencies of R and n should be the same. This means\n",
    "that if R is the annual (monthly/quarterly/daily) rate then n must be number of\n",
    "years (months/quarters/days). The corresponding function, called fv() in the\n",
    "SciPy module, could be used to estimate the future value; see the following code. To\n",
    "estimate the future value at the end of year two with a 10% annual interest rate for 100, we\n",
    "have the following code:"
   ]
  },
  {
   "cell_type": "code",
   "execution_count": 5,
   "metadata": {},
   "outputs": [
    {
     "name": "stderr",
     "output_type": "stream",
     "text": [
      "/anaconda3/lib/python3.7/site-packages/ipykernel_launcher.py:2: DeprecationWarning: scipy.fv is deprecated and will be removed in SciPy 2.0.0, use numpy.fv instead\n",
      "  \n"
     ]
    },
    {
     "data": {
      "text/plain": [
       "-121.00000000000001"
      ]
     },
     "execution_count": 5,
     "metadata": {},
     "output_type": "execute_result"
    }
   ],
   "source": [
    "import scipy as sp\n",
    "sp.fv(0.1,2,0,100)"
   ]
  },
  {
   "cell_type": "markdown",
   "metadata": {},
   "source": [
    "At the moment, just ignore the last variable called when. For Equation (1), there is\n",
    "no pmt, thus the third input should be zero. Please pay attention to the negative\n",
    "sign of the previous result. The reason is that scipy.fv() function follows the Excel\n",
    "sign convention: a positive future value leads to a negative present value"
   ]
  },
  {
   "cell_type": "code",
   "execution_count": 6,
   "metadata": {},
   "outputs": [
    {
     "name": "stdout",
     "output_type": "stream",
     "text": [
      "Help on function fv in module numpy:\n",
      "\n",
      "fv(rate, nper, pmt, pv, when='end')\n",
      "    scipy.fv is deprecated and will be removed in SciPy 2.0.0, use numpy.fv instead\n",
      "\n"
     ]
    }
   ],
   "source": [
    "help(sp.fv)"
   ]
  },
  {
   "cell_type": "code",
   "execution_count": 7,
   "metadata": {},
   "outputs": [
    {
     "name": "stdout",
     "output_type": "stream",
     "text": [
      "Help on function pv in module numpy:\n",
      "\n",
      "pv(rate, nper, pmt, fv=0, when='end')\n",
      "    scipy.pv is deprecated and will be removed in SciPy 2.0.0, use numpy.pv instead\n",
      "\n"
     ]
    }
   ],
   "source": [
    "help(sp.pv)"
   ]
  },
  {
   "cell_type": "markdown",
   "metadata": {},
   "source": [
    "If we\n",
    "plan to have $234 at the end of year five and the interest rate is 1.45% per year, how\n",
    "much we have to deposit today?"
   ]
  },
  {
   "cell_type": "code",
   "execution_count": 8,
   "metadata": {},
   "outputs": [
    {
     "data": {
      "text/plain": [
       "217.74871488824184"
      ]
     },
     "execution_count": 8,
     "metadata": {},
     "output_type": "execute_result"
    }
   ],
   "source": [
    "234/(1+0.0145)**5"
   ]
  },
  {
   "cell_type": "code",
   "execution_count": 9,
   "metadata": {},
   "outputs": [
    {
     "name": "stderr",
     "output_type": "stream",
     "text": [
      "/anaconda3/lib/python3.7/site-packages/ipykernel_launcher.py:1: DeprecationWarning: scipy.pv is deprecated and will be removed in SciPy 2.0.0, use numpy.pv instead\n",
      "  \"\"\"Entry point for launching an IPython kernel.\n"
     ]
    },
    {
     "data": {
      "text/plain": [
       "-217.74871488824184"
      ]
     },
     "execution_count": 9,
     "metadata": {},
     "output_type": "execute_result"
    }
   ],
   "source": [
    "sp.pv(0.0145,5,0,234)"
   ]
  },
  {
   "cell_type": "code",
   "execution_count": 10,
   "metadata": {},
   "outputs": [
    {
     "name": "stdout",
     "output_type": "stream",
     "text": [
      "Help on function pv in module numpy:\n",
      "\n",
      "pv(rate, nper, pmt, fv=0, when='end')\n",
      "    Compute the present value.\n",
      "    \n",
      "    Given:\n",
      "     * a future value, `fv`\n",
      "     * an interest `rate` compounded once per period, of which\n",
      "       there are\n",
      "     * `nper` total\n",
      "     * a (fixed) payment, `pmt`, paid either\n",
      "     * at the beginning (`when` = {'begin', 1}) or the end\n",
      "       (`when` = {'end', 0}) of each period\n",
      "    \n",
      "    Return:\n",
      "       the value now\n",
      "    \n",
      "    Parameters\n",
      "    ----------\n",
      "    rate : array_like\n",
      "        Rate of interest (per period)\n",
      "    nper : array_like\n",
      "        Number of compounding periods\n",
      "    pmt : array_like\n",
      "        Payment\n",
      "    fv : array_like, optional\n",
      "        Future value\n",
      "    when : {{'begin', 1}, {'end', 0}}, {string, int}, optional\n",
      "        When payments are due ('begin' (1) or 'end' (0))\n",
      "    \n",
      "    Returns\n",
      "    -------\n",
      "    out : ndarray, float\n",
      "        Present value of a series of payments or investments.\n",
      "    \n",
      "    Notes\n",
      "    -----\n",
      "    The present value is computed by solving the equation::\n",
      "    \n",
      "     fv +\n",
      "     pv*(1 + rate)**nper +\n",
      "     pmt*(1 + rate*when)/rate*((1 + rate)**nper - 1) = 0\n",
      "    \n",
      "    or, when ``rate = 0``::\n",
      "    \n",
      "     fv + pv + pmt * nper = 0\n",
      "    \n",
      "    for `pv`, which is then returned.\n",
      "    \n",
      "    References\n",
      "    ----------\n",
      "    .. [WRW] Wheeler, D. A., E. Rathke, and R. Weir (Eds.) (2009, May).\n",
      "       Open Document Format for Office Applications (OpenDocument)v1.2,\n",
      "       Part 2: Recalculated Formula (OpenFormula) Format - Annotated Version,\n",
      "       Pre-Draft 12. Organization for the Advancement of Structured Information\n",
      "       Standards (OASIS). Billerica, MA, USA. [ODT Document].\n",
      "       Available:\n",
      "       http://www.oasis-open.org/committees/documents.php?wg_abbrev=office-formula\n",
      "       OpenDocument-formula-20090508.odt\n",
      "    \n",
      "    Examples\n",
      "    --------\n",
      "    What is the present value (e.g., the initial investment)\n",
      "    of an investment that needs to total $15692.93\n",
      "    after 10 years of saving $100 every month?  Assume the\n",
      "    interest rate is 5% (annually) compounded monthly.\n",
      "    \n",
      "    >>> np.pv(0.05/12, 10*12, -100, 15692.93)\n",
      "    -100.00067131625819\n",
      "    \n",
      "    By convention, the negative sign represents cash flow out\n",
      "    (i.e., money not available today).  Thus, to end up with\n",
      "    $15,692.93 in 10 years saving $100 a month at 5% annual\n",
      "    interest, one's initial deposit should also be $100.\n",
      "    \n",
      "    If any input is array_like, ``pv`` returns an array of equal shape.\n",
      "    Let's compare different interest rates in the example above:\n",
      "    \n",
      "    >>> a = np.array((0.05, 0.04, 0.03))/12\n",
      "    >>> np.pv(a, 10*12, -100, 15692.93)\n",
      "    array([ -100.00067132,  -649.26771385, -1273.78633713]) # may vary\n",
      "    \n",
      "    So, to end up with the same $15692.93 under the same $100 per month\n",
      "    \"savings plan,\" for annual interest rates of 4% and 3%, one would\n",
      "    need initial investments of $649.27 and $1273.79, respectively.\n",
      "\n"
     ]
    }
   ],
   "source": [
    "import numpy as np\n",
    "help(np.pv)"
   ]
  },
  {
   "cell_type": "code",
   "execution_count": 11,
   "metadata": {},
   "outputs": [
    {
     "name": "stdout",
     "output_type": "stream",
     "text": [
      "Help on function fv in module numpy:\n",
      "\n",
      "fv(rate, nper, pmt, pv, when='end')\n",
      "    Compute the future value.\n",
      "    \n",
      "    Given:\n",
      "     * a present value, `pv`\n",
      "     * an interest `rate` compounded once per period, of which\n",
      "       there are\n",
      "     * `nper` total\n",
      "     * a (fixed) payment, `pmt`, paid either\n",
      "     * at the beginning (`when` = {'begin', 1}) or the end\n",
      "       (`when` = {'end', 0}) of each period\n",
      "    \n",
      "    Return:\n",
      "       the value at the end of the `nper` periods\n",
      "    \n",
      "    Parameters\n",
      "    ----------\n",
      "    rate : scalar or array_like of shape(M, )\n",
      "        Rate of interest as decimal (not per cent) per period\n",
      "    nper : scalar or array_like of shape(M, )\n",
      "        Number of compounding periods\n",
      "    pmt : scalar or array_like of shape(M, )\n",
      "        Payment\n",
      "    pv : scalar or array_like of shape(M, )\n",
      "        Present value\n",
      "    when : {{'begin', 1}, {'end', 0}}, {string, int}, optional\n",
      "        When payments are due ('begin' (1) or 'end' (0)).\n",
      "        Defaults to {'end', 0}.\n",
      "    \n",
      "    Returns\n",
      "    -------\n",
      "    out : ndarray\n",
      "        Future values.  If all input is scalar, returns a scalar float.  If\n",
      "        any input is array_like, returns future values for each input element.\n",
      "        If multiple inputs are array_like, they all must have the same shape.\n",
      "    \n",
      "    Notes\n",
      "    -----\n",
      "    The future value is computed by solving the equation::\n",
      "    \n",
      "     fv +\n",
      "     pv*(1+rate)**nper +\n",
      "     pmt*(1 + rate*when)/rate*((1 + rate)**nper - 1) == 0\n",
      "    \n",
      "    or, when ``rate == 0``::\n",
      "    \n",
      "     fv + pv + pmt * nper == 0\n",
      "    \n",
      "    References\n",
      "    ----------\n",
      "    .. [WRW] Wheeler, D. A., E. Rathke, and R. Weir (Eds.) (2009, May).\n",
      "       Open Document Format for Office Applications (OpenDocument)v1.2,\n",
      "       Part 2: Recalculated Formula (OpenFormula) Format - Annotated Version,\n",
      "       Pre-Draft 12. Organization for the Advancement of Structured Information\n",
      "       Standards (OASIS). Billerica, MA, USA. [ODT Document].\n",
      "       Available:\n",
      "       http://www.oasis-open.org/committees/documents.php?wg_abbrev=office-formula\n",
      "       OpenDocument-formula-20090508.odt\n",
      "    \n",
      "    Examples\n",
      "    --------\n",
      "    What is the future value after 10 years of saving $100 now, with\n",
      "    an additional monthly savings of $100.  Assume the interest rate is\n",
      "    5% (annually) compounded monthly?\n",
      "    \n",
      "    >>> np.fv(0.05/12, 10*12, -100, -100)\n",
      "    15692.928894335748\n",
      "    \n",
      "    By convention, the negative sign represents cash flow out (i.e. money not\n",
      "    available today).  Thus, saving $100 a month at 5% annual interest leads\n",
      "    to $15,692.93 available to spend in 10 years.\n",
      "    \n",
      "    If any input is array_like, returns an array of equal shape.  Let's\n",
      "    compare different interest rates from the example above.\n",
      "    \n",
      "    >>> a = np.array((0.05, 0.06, 0.07))/12\n",
      "    >>> np.fv(a, 10*12, -100, -100)\n",
      "    array([ 15692.92889434,  16569.87435405,  17509.44688102]) # may vary\n",
      "\n"
     ]
    }
   ],
   "source": [
    "help(np.fv)"
   ]
  },
  {
   "cell_type": "code",
   "execution_count": 13,
   "metadata": {},
   "outputs": [
    {
     "data": {
      "text/plain": [
       "9428.135032823473"
      ]
     },
     "execution_count": 13,
     "metadata": {},
     "output_type": "execute_result"
    }
   ],
   "source": [
    "np.pv(0.05/12, 10*12, -100,0)"
   ]
  },
  {
   "cell_type": "markdown",
   "metadata": {},
   "source": [
    "Note that for the fourth input variable of a set of inputs, the scipy.fv() and scipy.\n",
    "pv() functions behave differently: spicy.fv(0.1,1,100) would give us an error\n",
    "message while scipy.pv(0.1,1,100) would work perfectly. The reason is that the\n",
    "default value of the fourth input variable in scipy.pv() function is zero while there\n",
    "is no default value for the fourth input variable in the scipy.fv() function. This is\n",
    "one type of inconsistency in terms of Python programming.\n",
    "In finance, it is well known that 100 received today is more valuable than 100\n",
    "received one year later, which in turn is more valuable than $100 received in year\n",
    "two"
   ]
  },
  {
   "cell_type": "code",
   "execution_count": 14,
   "metadata": {},
   "outputs": [
    {
     "name": "stdout",
     "output_type": "stream",
     "text": [
      "Help on function pmt in module numpy:\n",
      "\n",
      "pmt(rate, nper, pv, fv=0, when='end')\n",
      "    Compute the payment against loan principal plus interest.\n",
      "    \n",
      "    Given:\n",
      "     * a present value, `pv` (e.g., an amount borrowed)\n",
      "     * a future value, `fv` (e.g., 0)\n",
      "     * an interest `rate` compounded once per period, of which\n",
      "       there are\n",
      "     * `nper` total\n",
      "     * and (optional) specification of whether payment is made\n",
      "       at the beginning (`when` = {'begin', 1}) or the end\n",
      "       (`when` = {'end', 0}) of each period\n",
      "    \n",
      "    Return:\n",
      "       the (fixed) periodic payment.\n",
      "    \n",
      "    Parameters\n",
      "    ----------\n",
      "    rate : array_like\n",
      "        Rate of interest (per period)\n",
      "    nper : array_like\n",
      "        Number of compounding periods\n",
      "    pv : array_like\n",
      "        Present value\n",
      "    fv : array_like,  optional\n",
      "        Future value (default = 0)\n",
      "    when : {{'begin', 1}, {'end', 0}}, {string, int}\n",
      "        When payments are due ('begin' (1) or 'end' (0))\n",
      "    \n",
      "    Returns\n",
      "    -------\n",
      "    out : ndarray\n",
      "        Payment against loan plus interest.  If all input is scalar, returns a\n",
      "        scalar float.  If any input is array_like, returns payment for each\n",
      "        input element. If multiple inputs are array_like, they all must have\n",
      "        the same shape.\n",
      "    \n",
      "    Notes\n",
      "    -----\n",
      "    The payment is computed by solving the equation::\n",
      "    \n",
      "     fv +\n",
      "     pv*(1 + rate)**nper +\n",
      "     pmt*(1 + rate*when)/rate*((1 + rate)**nper - 1) == 0\n",
      "    \n",
      "    or, when ``rate == 0``::\n",
      "    \n",
      "      fv + pv + pmt * nper == 0\n",
      "    \n",
      "    for ``pmt``.\n",
      "    \n",
      "    Note that computing a monthly mortgage payment is only\n",
      "    one use for this function.  For example, pmt returns the\n",
      "    periodic deposit one must make to achieve a specified\n",
      "    future balance given an initial deposit, a fixed,\n",
      "    periodically compounded interest rate, and the total\n",
      "    number of periods.\n",
      "    \n",
      "    References\n",
      "    ----------\n",
      "    .. [WRW] Wheeler, D. A., E. Rathke, and R. Weir (Eds.) (2009, May).\n",
      "       Open Document Format for Office Applications (OpenDocument)v1.2,\n",
      "       Part 2: Recalculated Formula (OpenFormula) Format - Annotated Version,\n",
      "       Pre-Draft 12. Organization for the Advancement of Structured Information\n",
      "       Standards (OASIS). Billerica, MA, USA. [ODT Document].\n",
      "       Available:\n",
      "       http://www.oasis-open.org/committees/documents.php\n",
      "       ?wg_abbrev=office-formulaOpenDocument-formula-20090508.odt\n",
      "    \n",
      "    Examples\n",
      "    --------\n",
      "    What is the monthly payment needed to pay off a $200,000 loan in 15\n",
      "    years at an annual interest rate of 7.5%?\n",
      "    \n",
      "    >>> np.pmt(0.075/12, 12*15, 200000)\n",
      "    -1854.0247200054619\n",
      "    \n",
      "    In order to pay-off (i.e., have a future-value of 0) the $200,000 obtained\n",
      "    today, a monthly payment of $1,854.02 would be required.  Note that this\n",
      "    example illustrates usage of `fv` having a default value of 0.\n",
      "\n"
     ]
    }
   ],
   "source": [
    "help(np.pmt)"
   ]
  },
  {
   "cell_type": "code",
   "execution_count": 2,
   "metadata": {},
   "outputs": [],
   "source": [
    "import numpy.lib.financial as fin \n",
    "#fin.pv()"
   ]
  },
  {
   "attachments": {
    "image.png": {
     "image/png": "[encoded data removed]"
    }
   },
   "cell_type": "markdown",
   "metadata": {},
   "source": [
    "### Definition of NPV and NPV rule\n",
    "The Net Present Value (NPV) is defined by the following formula:\n",
    "![image.png](attachment:image.png)\n",
    "Here is an example. The initial investment is $100. The cash inflows in the next five\n",
    "years are $50, $60, $70, $100, and $20, starting from year one. If the discount rate is\n",
    "11.2%, what is the project's NPV value? Since only six cash flows are involved, we\n",
    "could do the calculation manually:"
   ]
  },
  {
   "cell_type": "code",
   "execution_count": 3,
   "metadata": {},
   "outputs": [
    {
     "name": "stdout",
     "output_type": "stream",
     "text": [
      "121.55722687966407\n"
     ]
    }
   ],
   "source": [
    "r=0.112\n",
    "print(-100+50/(1+r)+60/(1+r)**2+70/(1+r)**3+100/(1+r)**4+20/(1+r)**5)"
   ]
  },
  {
   "cell_type": "code",
   "execution_count": 4,
   "metadata": {},
   "outputs": [
    {
     "name": "stderr",
     "output_type": "stream",
     "text": [
      "/anaconda3/lib/python3.7/site-packages/ipykernel_launcher.py:3: DeprecationWarning: scipy.npv is deprecated and will be removed in SciPy 2.0.0, use numpy.npv instead\n",
      "  This is separate from the ipykernel package so we can avoid doing imports until\n"
     ]
    },
    {
     "data": {
      "text/plain": [
       "121.55722687966407"
      ]
     },
     "execution_count": 4,
     "metadata": {},
     "output_type": "execute_result"
    }
   ],
   "source": [
    "import scipy as sp\n",
    "cashflows=[-100,50,60,70,100,20]\n",
    "sp.npv(0.112,cashflows)"
   ]
  },
  {
   "attachments": {
    "image.png": {
     "image/png": "[encoded data removed]"
    }
   },
   "cell_type": "markdown",
   "metadata": {},
   "source": [
    "Based on the preceding result, the NPV of this project is $121.56. A normal project is\n",
    "defined as follows: cash outflows first, then cash inflows. Anything else is an abnormal\n",
    "project. For a normal project, its NPV is negatively correlated with the discount rate;\n",
    "see the following graph. The reason is that when the discount rate increases, the\n",
    "present value of the future cash flows (most of times benefits) will decrease more\n",
    "than the current or the earliest cash flows (most of times costs). The NPV profile\n",
    "describes the relationship between NPV and discount rate as shown in the following\n",
    "graph. See Appendix E for the Python program to generate the graph. The y-axis is\n",
    "NPV while the x-axis is the discount rate:\n",
    "![image.png](attachment:image.png)"
   ]
  },
  {
   "attachments": {
    "image.png": {
     "image/png": "[encoded data removed]"
    }
   },
   "cell_type": "markdown",
   "metadata": {},
   "source": [
    "The scipy.npv() function estimates the present values for a given set of cash flows.\n",
    "The first input variable is the discount rate, while the second input is an array of\n",
    "cash flows. Note that the first cash flow in this cash flow array happens at time zero.\n",
    "This scipy.npv() function is different from the Excel's NPV function, which is not a\n",
    "true NPV function. Actually, the Excel NPV is a PV function. It estimates the present\n",
    "value of future cash flows by assuming the first cash flow happens at the end of the\n",
    "first period. An example of using an Excel npv() function is as follows:\n",
    "![image.png](attachment:image.png)\n"
   ]
  },
  {
   "cell_type": "code",
   "execution_count": 8,
   "metadata": {},
   "outputs": [
    {
     "data": {
      "text/plain": [
       "100.0"
      ]
     },
     "execution_count": 8,
     "metadata": {},
     "output_type": "execute_result"
    }
   ],
   "source": [
    "import numpy as np\n",
    "c=[100]\n",
    "np.npv(0.1,c)"
   ]
  },
  {
   "attachments": {
    "image.png": {
     "image/png": "[encoded data removed]"
    }
   },
   "cell_type": "markdown",
   "metadata": {},
   "source": [
    "![image.png](attachment:image.png)"
   ]
  },
  {
   "attachments": {
    "image.png": {
     "image/png": "[encoded data removed]"
    }
   },
   "cell_type": "markdown",
   "metadata": {},
   "source": [
    "![image.png](attachment:image.png)"
   ]
  },
  {
   "cell_type": "markdown",
   "metadata": {},
   "source": [
    "### Definition of IRR and IRR rule\n",
    "The Internal Rate of Return (IRR) is defined as the discount rate that makes NPV\n",
    "equal zero. Assume that we invest $100 today and the future cash flows will be $30,\n",
    "$40, $40, and $50 for the next four years. Assuming that all cash flows happen at the\n",
    "end of the year, what is the IRR for this investment? In the following program, the\n",
    "scipy.irr() function is applied:"
   ]
  },
  {
   "cell_type": "code",
   "execution_count": 9,
   "metadata": {},
   "outputs": [
    {
     "name": "stderr",
     "output_type": "stream",
     "text": [
      "/anaconda3/lib/python3.7/site-packages/ipykernel_launcher.py:3: DeprecationWarning: scipy.irr is deprecated and will be removed in SciPy 2.0.0, use numpy.irr instead\n",
      "  This is separate from the ipykernel package so we can avoid doing imports until\n"
     ]
    },
    {
     "data": {
      "text/plain": [
       "0.2001879105140867"
      ]
     },
     "execution_count": 9,
     "metadata": {},
     "output_type": "execute_result"
    }
   ],
   "source": [
    "import scipy as sp\n",
    "cashflows=[-100,30,40,40,50]\n",
    "sp.irr(cashflows)"
   ]
  },
  {
   "attachments": {
    "image.png": {
     "image/png": "[encoded data removed]"
    }
   },
   "cell_type": "markdown",
   "metadata": {},
   "source": [
    "For a normal project, the IRR rule is given here:\n",
    "![image.png](attachment:image.png)"
   ]
  },
  {
   "cell_type": "markdown",
   "metadata": {},
   "source": [
    "Here, Rc is the cost of capital. This IRR rule holds only for a normal project. Let's\n",
    "look at the following investment opportunity. The initial investment is $100 today\n",
    "and $50 next year. The cash inflows for the next five years will be $50, $70, $100, $90,\n",
    "and $20. If the cost of capital is 10%, should we take the project? The time line and\n",
    "corresponding cash flows are shown here:"
   ]
  },
  {
   "cell_type": "code",
   "execution_count": 11,
   "metadata": {},
   "outputs": [
    {
     "name": "stderr",
     "output_type": "stream",
     "text": [
      "/anaconda3/lib/python3.7/site-packages/ipykernel_launcher.py:3: DeprecationWarning: scipy.irr is deprecated and will be removed in SciPy 2.0.0, use numpy.irr instead\n",
      "  This is separate from the ipykernel package so we can avoid doing imports until\n"
     ]
    },
    {
     "data": {
      "text/plain": [
       "0.25949919326073245"
      ]
     },
     "execution_count": 11,
     "metadata": {},
     "output_type": "execute_result"
    }
   ],
   "source": [
    "import scipy as sp\n",
    "cashflows=[-100,-50,50,70,100,90,20]\n",
    "sp.irr(cashflows)"
   ]
  },
  {
   "cell_type": "markdown",
   "metadata": {},
   "source": [
    "Since the IRR is 25.9%, which is higher than the cost of capital of 10%, we should\n",
    "accept the project based on the IRR rule. In the preceding example, it is a normal\n",
    "project. For abnormal projects or projects with multiple IRRs, we could not apply\n",
    "the IRR rule. When the cash flows change direction more than once, we might have\n",
    "multiple IRRs. Assume that our cash flows will be 504, -432,-432, -432, and 843,\n",
    "starting today:"
   ]
  },
  {
   "attachments": {
    "image.png": {
     "image/png": "[encoded data removed]"
    }
   },
   "cell_type": "markdown",
   "metadata": {},
   "source": [
    "![image.png](attachment:image.png)"
   ]
  },
  {
   "cell_type": "code",
   "execution_count": 17,
   "metadata": {},
   "outputs": [
    {
     "name": "stderr",
     "output_type": "stream",
     "text": [
      "/anaconda3/lib/python3.7/site-packages/ipykernel_launcher.py:10: DeprecationWarning: scipy.npv is deprecated and will be removed in SciPy 2.0.0, use numpy.npv instead\n",
      "  # Remove the CWD from sys.path while we load stuff.\n"
     ]
    },
    {
     "data": {
      "image/png": "[encoded data removed]",
      "text/plain": [
       "<Figure size 432x288 with 1 Axes>"
      ]
     },
     "metadata": {
      "needs_background": "light"
     },
     "output_type": "display_data"
    }
   ],
   "source": [
    "import scipy as sp\n",
    "import matplotlib.pyplot as plt\n",
    "cashflows=[504,-432,-432,-432,832]\n",
    "rate=[]\n",
    "npv=[]\n",
    "x=[0,0.3]\n",
    "y=[0,0]\n",
    "for i in range(1,30):\n",
    "    rate.append(0.01*i)\n",
    "    npv.append(sp.npv(0.01*i,cashflows))\n",
    "plt.plot(x,y),plt.plot(rate,npv)\n",
    "plt.show()"
   ]
  },
  {
   "cell_type": "code",
   "execution_count": 22,
   "metadata": {},
   "outputs": [],
   "source": [
    "import pandas_datareader.data as getData\n",
    "x = getData.DataReader('IBM', data_source='yahoo',start='2004/1/30')\n"
   ]
  },
  {
   "cell_type": "code",
   "execution_count": 23,
   "metadata": {},
   "outputs": [
    {
     "name": "stdout",
     "output_type": "stream",
     "text": [
      "                  High         Low        Open       Close     Volume  \\\n",
      "Date                                                                    \n",
      "2004-01-30   99.330002   97.839996   98.019997   99.230003  6137600.0   \n",
      "2004-02-02   99.940002   98.500000   99.150002   99.389999  6200000.0   \n",
      "2004-02-03  100.000000   98.949997   99.000000  100.000000  5604300.0   \n",
      "2004-02-04  100.430000   99.300003   99.379997  100.190002  8387500.0   \n",
      "2004-02-05  100.089996   98.260002  100.000000   98.860001  5975000.0   \n",
      "...                ...         ...         ...         ...        ...   \n",
      "2020-06-29  119.779999  117.370003  117.980003  119.750000  4159500.0   \n",
      "2020-06-30  121.199997  119.000000  119.190002  120.769997  3919500.0   \n",
      "2020-07-01  121.230003  118.370003  120.269997  118.540001  4655800.0   \n",
      "2020-07-02  121.419998  119.260002  119.690002  119.699997  3747000.0   \n",
      "2020-07-06  121.849998  119.459999  121.250000  120.190002  4031281.0   \n",
      "\n",
      "             Adj Close  \n",
      "Date                    \n",
      "2004-01-30   65.414009  \n",
      "2004-02-02   65.519485  \n",
      "2004-02-03   65.921608  \n",
      "2004-02-04   66.046837  \n",
      "2004-02-05   65.170074  \n",
      "...                ...  \n",
      "2020-06-29  119.750000  \n",
      "2020-06-30  120.769997  \n",
      "2020-07-01  118.540001  \n",
      "2020-07-02  119.699997  \n",
      "2020-07-06  120.190002  \n",
      "\n",
      "[4136 rows x 6 columns]\n"
     ]
    }
   ],
   "source": [
    "print(x)\n"
   ]
  },
  {
   "cell_type": "code",
   "execution_count": null,
   "metadata": {},
   "outputs": [],
   "source": []
  }
 ],
 "metadata": {
  "kernelspec": {
   "display_name": "Python 3",
   "language": "python",
   "name": "python3"
  },
  "language_info": {
   "codemirror_mode": {
    "name": "ipython",
    "version": 3
   },
   "file_extension": ".py",
   "mimetype": "text/x-python",
   "name": "python",
   "nbconvert_exporter": "python",
   "pygments_lexer": "ipython3",
   "version": "3.7.6"
  }
 },
 "nbformat": 4,
 "nbformat_minor": 4
}
